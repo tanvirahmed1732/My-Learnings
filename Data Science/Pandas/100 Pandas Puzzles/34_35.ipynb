{
 "cells": [
  {
   "cell_type": "markdown",
   "id": "b7d344d2",
   "metadata": {},
   "source": [
    "**34.** Create a DatetimeIndex that contains each business day of 2015 and use it to index a Series of random numbers. Let's call this Series `s`. \n",
    "Find the sum of the values in `s` for every Wednesday."
   ]
  },
  {
   "cell_type": "code",
   "execution_count": 1,
   "id": "be2b5a4c",
   "metadata": {},
   "outputs": [
    {
     "data": {
      "text/plain": [
       "2015-01-01    38\n",
       "2015-01-02    13\n",
       "2015-01-05    73\n",
       "2015-01-06    10\n",
       "2015-01-07    76\n",
       "              ..\n",
       "2015-12-25    35\n",
       "2015-12-28    33\n",
       "2015-12-29    20\n",
       "2015-12-30    68\n",
       "2015-12-31    25\n",
       "Freq: B, Length: 261, dtype: int32"
      ]
     },
     "execution_count": 1,
     "metadata": {},
     "output_type": "execute_result"
    }
   ],
   "source": [
    "import pandas as pd\n",
    "import numpy as np\n",
    "np.random.seed(1)\n",
    "bd=pd.bdate_range(\"2015-01-01\", \"2015-12-31\")\n",
    "s=pd.Series(np.random.randint(1,100,size=len(bd)),index=bd)\n",
    "s"
   ]
  },
  {
   "cell_type": "markdown",
   "id": "c54f71f2",
   "metadata": {},
   "source": [
    "**35.** For each calendar month in `s`, find the mean of values."
   ]
  },
  {
   "cell_type": "code",
   "execution_count": 2,
   "id": "9f617683",
   "metadata": {},
   "outputs": [
    {
     "data": {
      "text/plain": [
       "1     37.454545\n",
       "2     52.900000\n",
       "3     46.772727\n",
       "4     38.318182\n",
       "5     53.000000\n",
       "6     51.000000\n",
       "7     59.869565\n",
       "8     49.666667\n",
       "9     45.590909\n",
       "10    55.181818\n",
       "11    52.428571\n",
       "12    43.565217\n",
       "dtype: float64"
      ]
     },
     "execution_count": 2,
     "metadata": {},
     "output_type": "execute_result"
    }
   ],
   "source": [
    "np.random.seed(1)\n",
    "s.groupby(s.index.month).mean()\n",
    "# np.random.randint(1,100, size=22).mean()"
   ]
  }
 ],
 "metadata": {
  "kernelspec": {
   "display_name": "base",
   "language": "python",
   "name": "python3"
  },
  "language_info": {
   "codemirror_mode": {
    "name": "ipython",
    "version": 3
   },
   "file_extension": ".py",
   "mimetype": "text/x-python",
   "name": "python",
   "nbconvert_exporter": "python",
   "pygments_lexer": "ipython3",
   "version": "3.12.3"
  }
 },
 "nbformat": 4,
 "nbformat_minor": 5
}
