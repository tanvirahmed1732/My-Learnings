{
 "cells": [
  {
   "cell_type": "markdown",
   "id": "8dc044f4",
   "metadata": {},
   "source": [
    "**33.** Create a DatetimeIndex that contains each business day of 2015 and use it to index a Series of random numbers. Let's call this Series `s`."
   ]
  },
  {
   "cell_type": "code",
   "execution_count": 1,
   "id": "312e5526",
   "metadata": {},
   "outputs": [
    {
     "data": {
      "text/plain": [
       "2015-01-01    51\n",
       "2015-01-02    80\n",
       "2015-01-05    11\n",
       "2015-01-06    21\n",
       "2015-01-07    64\n",
       "2015-01-08    64\n",
       "2015-01-09    73\n",
       "2015-01-12    57\n",
       "2015-01-13    10\n",
       "2015-01-14    37\n",
       "2015-01-15    81\n",
       "2015-01-16    58\n",
       "2015-01-19    45\n",
       "2015-01-20    26\n",
       "2015-01-21    33\n",
       "2015-01-22    65\n",
       "2015-01-23    14\n",
       "2015-01-26    31\n",
       "2015-01-27    94\n",
       "2015-01-28    83\n",
       "2015-01-29    96\n",
       "2015-01-30    53\n",
       "2015-02-02    89\n",
       "2015-02-03    30\n",
       "2015-02-04    64\n",
       "2015-02-05    10\n",
       "2015-02-06    82\n",
       "2015-02-09    22\n",
       "2015-02-10     1\n",
       "2015-02-11     5\n",
       "Freq: B, dtype: int32"
      ]
     },
     "execution_count": 1,
     "metadata": {},
     "output_type": "execute_result"
    }
   ],
   "source": [
    "import numpy as np \n",
    "import pandas as pd\n",
    "# np.random.randint(1,101,size=365)\n",
    "bd=pd.bdate_range(\"2015-01-01\", \"2015-12-31\")\n",
    "s=pd.Series(np.random.randint(1,100,size=len(bd)),index=bd) #index is business day and value is random numbers.\n",
    "s.head(30)"
   ]
  }
 ],
 "metadata": {
  "kernelspec": {
   "display_name": "base",
   "language": "python",
   "name": "python3"
  },
  "language_info": {
   "codemirror_mode": {
    "name": "ipython",
    "version": 3
   },
   "file_extension": ".py",
   "mimetype": "text/x-python",
   "name": "python",
   "nbconvert_exporter": "python",
   "pygments_lexer": "ipython3",
   "version": "3.12.3"
  }
 },
 "nbformat": 4,
 "nbformat_minor": 5
}
