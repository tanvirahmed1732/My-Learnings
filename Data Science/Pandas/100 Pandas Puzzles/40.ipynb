{
 "cells": [
  {
   "cell_type": "markdown",
   "id": "c06b2038",
   "metadata": {},
   "source": [
    "**40.** Notice how the capitalisation of the city names is all mixed up in this temporary DataFrame 'temp'. Standardise the strings so that only the first letter is uppercase (e.g. \"londON\" should become \"London\".)"
   ]
  },
  {
   "cell_type": "code",
   "execution_count": null,
   "id": "5509696c",
   "metadata": {},
   "outputs": [],
   "source": [
    "import pandas as pd \n",
    "import numpy as np\n",
    "df = pd.DataFrame({'From_To': ['LoNDon_paris', 'MAdrid_miLAN', 'londON_StockhOlm', \n",
    "                               'Budapest_PaRis', 'Brussels_londOn'],\n",
    "              'FlightNumber': [10045, np.nan, 10065, np.nan, 10085],\n",
    "              'RecentDelays': [[23, 47], [], [24, 43, 87], [13], [67, 32]],\n",
    "                   'Airline': ['KLM(!)', '<Air France> (12)', '(British Airways. )', \n",
    "                               '12. Air France', '\"Swiss Air\"']})\n",
    "df['FlightNumber']=df['FlightNumber'].interpolate().astype('int') #Interpolation is the process of estimating missing values based on existing data points\n",
    "\n",
    "temp=df.copy()\n",
    "temp[['From','To']]=temp['From_To'].str.split(\"_\",expand=True) #method is used when you want the result of the split operation to be returned as a DataFrame or a 2D array\n",
    "# temp[\"To\"]=temp[\"From_To\"][1]\n",
    "temp.drop(columns=['From_To'],inplace=True)\n",
    "\n",
    "temp\n",
    "temp['From']=temp.From.str.capitalize()\n",
    "temp['To']=temp.To.str.capitalize()\n",
    "# temp.drop(columns=['T0'],inplace=True)\n",
    "temp #easy"
   ]
  }
 ],
 "metadata": {
  "kernelspec": {
   "display_name": "base",
   "language": "python",
   "name": "python3"
  },
  "language_info": {
   "codemirror_mode": {
    "name": "ipython",
    "version": 3
   },
   "file_extension": ".py",
   "mimetype": "text/x-python",
   "name": "python",
   "nbconvert_exporter": "python",
   "pygments_lexer": "ipython3",
   "version": "3.12.3"
  }
 },
 "nbformat": 4,
 "nbformat_minor": 5
}
