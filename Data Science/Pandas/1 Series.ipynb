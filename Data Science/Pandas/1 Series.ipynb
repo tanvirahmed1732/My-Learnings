{
 "cells": [
  {
   "cell_type": "code",
   "execution_count": 28,
   "metadata": {},
   "outputs": [
    {
     "data": {
      "text/plain": [
       "California        NaN\n",
       "Ohio          35000.0\n",
       "Oregon        16000.0\n",
       "Texas         71000.0\n",
       "dtype: float64"
      ]
     },
     "execution_count": 28,
     "metadata": {},
     "output_type": "execute_result"
    }
   ],
   "source": [
    "#Pandas Series\n",
    "import numpy as np \n",
    "import pandas as pd\n",
    "obj=pd.Series([4,7,-5,3]) #A Series is a one-dimensional array-like object containing a sequence of values\n",
    "obj\n",
    "obj.array #to see the array\n",
    "obj.index #to see the indexes\n",
    "obj2=pd.Series([4,7,-5,3],index=[\"d\",\"b\",\"a\",\"c\"]) #we can provide custom index\n",
    "obj2\n",
    "obj2.index\n",
    "obj2[\"a\"]\n",
    "obj2[\"d\"] = 6\n",
    "obj2[[\"c\",\"a\",\"d\"]]\n",
    "\n",
    "#operations like numpy\n",
    "obj2[obj2>0]\n",
    "obj2*2\n",
    "np.exp(obj2) #we can also perform numpy method on series\n",
    "\n",
    "#Series is working like a python dictionary\n",
    "\"b\" in obj2\n",
    "\"e\" in obj2\n",
    "\n",
    "#we can create series from dictionary\n",
    "sdata={\"Ohio\":35000,\"Texas\":71000,\"Oregon\":16000,\"Utah\":5000}\n",
    "obj3=pd.Series(sdata)\n",
    "obj3\n",
    "obj3.to_dict() #A Series can be converted back to a dictionary with its to_dict method\n",
    "states=[\"California\",\"Ohio\",\"Oregon\",\"Texas\"]\n",
    "obj4 = pd.Series(sdata,index=states) #we can reorder the elements by passing the index while creating the series from dict\n",
    "obj4\n",
    "\n",
    "#we can detect missing data by\n",
    "pd.isna(obj4)\n",
    "pd.notna(obj4)\n",
    "\n",
    "obj3+obj4 #its like database join\n",
    "\n",
    "obj4\n"
   ]
  }
 ],
 "metadata": {
  "kernelspec": {
   "display_name": "base",
   "language": "python",
   "name": "python3"
  },
  "language_info": {
   "codemirror_mode": {
    "name": "ipython",
    "version": 3
   },
   "file_extension": ".py",
   "mimetype": "text/x-python",
   "name": "python",
   "nbconvert_exporter": "python",
   "pygments_lexer": "ipython3",
   "version": "3.12.4"
  }
 },
 "nbformat": 4,
 "nbformat_minor": 2
}
