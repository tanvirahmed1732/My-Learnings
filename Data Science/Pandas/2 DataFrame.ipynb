{
 "cells": [
  {
   "cell_type": "code",
   "execution_count": 42,
   "metadata": {},
   "outputs": [
    {
     "data": {
      "text/plain": [
       "(array([[2000, 'Ohio', 1.5, nan],\n",
       "        [2001, 'Ohio', 1.7, nan],\n",
       "        [2002, 'Ohio', 3.6, nan],\n",
       "        [2001, 'Nevada', 2.4, nan],\n",
       "        [2002, 'Nevada', 2.9, nan],\n",
       "        [2003, 'Nevada', 3.2, nan]], dtype=object),\n",
       " array([[1.5, nan],\n",
       "        [1.7, 2.4],\n",
       "        [3.6, 2.9]]))"
      ]
     },
     "execution_count": 42,
     "metadata": {},
     "output_type": "execute_result"
    }
   ],
   "source": [
    "import numpy as np\n",
    "import pandas as pd\n",
    "data={\"state\":['Ohio','Ohio','Ohio','Nevada','Nevada','Nevada'],\n",
    "        \"year\":[2000,2001,2002,2001,2002,2003],\n",
    "        \"pop\":[1.5,1.7,3.6,2.4,2.9,3.2]}\n",
    "frame=pd.DataFrame(data) #creating a dataframe from a dictionary\n",
    "frame\n",
    "frame.head() #this method selects only the first five rows\n",
    "frame.tail() #similarly it returns last five rows\n",
    "pd.DataFrame(data,columns=[\"year\",\"state\",'pop']) #we can re-arrange the colunm\n",
    "frame2=pd.DataFrame(data,columns=['year','state','pop','debt']) #if we pass a column that not present in the data\n",
    "frame2 #then it will appear with missing data (NaN)\n",
    "frame2.columns\n",
    "#we can retrieve any colunm by dict like notation or dot attribute notation\n",
    "frame2[\"state\"]\n",
    "frame2.year\n",
    "frame2.loc[1] # to see rows\n",
    "frame2[\"debt\"]=16.5 #assighning to the debt colunm\n",
    "frame2\n",
    "frame2[\"debt\"]=np.arange(6)\n",
    "frame2\n",
    "\n",
    "#assigning column that doesn't exist\n",
    "val = pd.Series([-1.2,-1.5,-1.7],index=['tow','four','five'])\n",
    "frame2['debt']=val #singce the there is no matching it will create a new column of NaN's\n",
    "frame2\n",
    "\n",
    "frame2[\"eastern\"]=frame2['state']==\"Ohio\" #new column created\n",
    "frame2\n",
    "del frame2[\"eastern\"] #deleted the whole column\n",
    "frame2\n",
    "\n",
    "#another common form of data is a nested dict of dict\n",
    "populations={'Ohio':{2000:1.5,2001:1.7,2002:3.6},\n",
    "            'Nevada':{2001:2.4,2002:2.9}}\n",
    "frame3=pd.DataFrame(populations)\n",
    "frame3\n",
    "frame3.T #we can swap rows and column same as numpy\n",
    "\n",
    "frame3\n",
    "pdata={\"Ohio\": frame3[\"Ohio\"][:-1],\n",
    "        \"Nevada\": frame3[\"Nevada\"][:2]}\n",
    "pdata,frame3\n",
    "pd.DataFrame(pdata)\n",
    "\n",
    "#we can give name attributes to the index and column\n",
    "frame3.index.name=\"year\"\n",
    "frame3.columns.name=\"state\"\n",
    "frame3\n",
    "\n",
    "#we can transfer dataframe to ndarry using to_numpy method\n",
    "#it will give us 2D ndarray containing only datas\n",
    "frame3.to_numpy(),frame3\n",
    "frame2.to_numpy(),frame3.to_numpy()"
   ]
  }
 ],
 "metadata": {
  "kernelspec": {
   "display_name": "base",
   "language": "python",
   "name": "python3"
  },
  "language_info": {
   "codemirror_mode": {
    "name": "ipython",
    "version": 3
   },
   "file_extension": ".py",
   "mimetype": "text/x-python",
   "name": "python",
   "nbconvert_exporter": "python",
   "pygments_lexer": "ipython3",
   "version": "3.12.4"
  }
 },
 "nbformat": 4,
 "nbformat_minor": 2
}
