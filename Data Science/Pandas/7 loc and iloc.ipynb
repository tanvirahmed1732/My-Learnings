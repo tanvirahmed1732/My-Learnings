{
 "cells": [
  {
   "cell_type": "code",
   "execution_count": 9,
   "metadata": {},
   "outputs": [
    {
     "data": {
      "text/plain": [
       "four    11\n",
       "one      8\n",
       "two      9\n",
       "Name: Utah, dtype: int32"
      ]
     },
     "execution_count": 9,
     "metadata": {},
     "output_type": "execute_result"
    }
   ],
   "source": [
    "import numpy as np\n",
    "import pandas as pd\n",
    "data = pd.DataFrame(np.arange(16).reshape((4, 4)),\n",
    "        index=[\"Ohio\", \"Colorado\", \"Utah\", \"New York\"],\n",
    "        columns=[\"one\", \"two\", \"three\", \"four\"])\n",
    "data\n",
    "data.loc[\"Colorado\"] #selecting a single row\n",
    "data.loc[[\"Colorado\",\"New York\"]]\n",
    "data.loc[\"Colorado\",[\"two\",\"three\"]]\n",
    "data.iloc[2] #2nd row\n",
    "data.iloc[[2,1]]\n",
    "data.iloc[2,[3,0,1]]"
   ]
  }
 ],
 "metadata": {
  "kernelspec": {
   "display_name": "base",
   "language": "python",
   "name": "python3"
  },
  "language_info": {
   "codemirror_mode": {
    "name": "ipython",
    "version": 3
   },
   "file_extension": ".py",
   "mimetype": "text/x-python",
   "name": "python",
   "nbconvert_exporter": "python",
   "pygments_lexer": "ipython3",
   "version": "3.12.4"
  }
 },
 "nbformat": 4,
 "nbformat_minor": 2
}
