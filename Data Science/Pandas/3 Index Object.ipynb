{
 "cells": [
  {
   "cell_type": "code",
   "execution_count": null,
   "metadata": {},
   "outputs": [
    {
     "data": {
      "text/plain": [
       "False"
      ]
     },
     "execution_count": 21,
     "metadata": {},
     "output_type": "execute_result"
    }
   ],
   "source": [
    "import pandas as pd\n",
    "import numpy as np\n",
    "obj=pd.Series(np.arange(3),index=['a','b','c'])\n",
    "index=obj.index\n",
    "index\n",
    "index[1:] #this index is immutable, we can modify anything\n",
    "labels=pd.Index(np.arange(3)) #creating a index object\n",
    "labels\n",
    "obj2=pd.Series([1.5,-2.5,0],index=labels)\n",
    "obj2\n",
    "obj2.index is labels # True\n",
    "populations={'Ohio':{2000:1.5,2001:1.7,2002:3.6},\n",
    "            'Nevada':{2001:2.4,2002:2.9}}\n",
    "frame3=pd.DataFrame(populations)\n",
    "frame3\n",
    "frame3.index.name=\"year\"\n",
    "frame3.columns.name=\"state\"\n",
    "frame3\n",
    "frame3.columns\n",
    "frame3.index\n",
    "\"Ohio\" in frame3.columns #True\n",
    "2003 in frame3.index #False\n"
   ]
  }
 ],
 "metadata": {
  "kernelspec": {
   "display_name": "base",
   "language": "python",
   "name": "python3"
  },
  "language_info": {
   "codemirror_mode": {
    "name": "ipython",
    "version": 3
   },
   "file_extension": ".py",
   "mimetype": "text/x-python",
   "name": "python",
   "nbconvert_exporter": "python",
   "pygments_lexer": "ipython3",
   "version": "3.12.4"
  }
 },
 "nbformat": 4,
 "nbformat_minor": 2
}
