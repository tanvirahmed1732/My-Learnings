{
 "cells": [
  {
   "cell_type": "code",
   "execution_count": null,
   "metadata": {},
   "outputs": [
    {
     "name": "stderr",
     "output_type": "stream",
     "text": [
      "C:\\Users\\Tanvir Ahmed\\AppData\\Local\\Temp\\ipykernel_8636\\2742536669.py:8: FutureWarning: pandas.value_counts is deprecated and will be removed in a future version. Use pd.Series(obj).value_counts() instead.\n",
      "  pd.value_counts(obj,sort=False) #can shut off the sort funtionality\n",
      "C:\\Users\\Tanvir Ahmed\\AppData\\Local\\Temp\\ipykernel_8636\\2742536669.py:9: FutureWarning: pandas.value_counts is deprecated and will be removed in a future version. Use pd.Series(obj).value_counts() instead.\n",
      "  pd.value_counts(obj.to_numpy(obj),sort=False) #also work in numpy array\n",
      "C:\\Users\\Tanvir Ahmed\\AppData\\Local\\Temp\\ipykernel_8636\\2742536669.py:24: FutureWarning: pandas.value_counts is deprecated and will be removed in a future version. Use pd.Series(obj).value_counts() instead.\n",
      "  result=data.apply(pd.value_counts)\n"
     ]
    },
    {
     "data": {
      "text/plain": [
       "a  b\n",
       "1  0    2\n",
       "2  0    2\n",
       "1  1    1\n",
       "Name: count, dtype: int64"
      ]
     },
     "execution_count": 27,
     "metadata": {},
     "output_type": "execute_result"
    }
   ],
   "source": [
    "#Unique Values, Value Counts, and Membership\n",
    "import numpy as np\n",
    "import pandas as pd\n",
    "obj = pd.Series([\"c\", \"a\", \"d\", \"a\", \"a\", \"b\", \"b\", \"c\", \"c\"])\n",
    "uniues=obj.unique() #not necessarily mantain any order\n",
    "uniues #returns only unique values\n",
    "obj.value_counts() #frequency in descending order.\n",
    "pd.value_counts(obj,sort=False) #can shut off the sort funtionality\n",
    "pd.value_counts(obj.to_numpy(obj),sort=False) #also work in numpy array\n",
    "obj\n",
    "mask=obj.isin(['b','c']) #check the obj contain those value or not\n",
    "mask\n",
    "obj[mask]\n",
    "to_match=pd.Series([\"c\", \"a\", \"b\", \"b\", \"c\", \"a\"])\n",
    "unique_vals=pd.Series(['c','b','a'])\n",
    "indices=pd.Index(to_match.unique()).get_indexer(to_match)\n",
    "indices #array([0, 1, 2, 2, 0, 1], dtype=int64)\n",
    "data = pd.DataFrame({\"Qu1\": [1, 3, 4, 3, 4],\n",
    "                    \"Qu2\": [2, 3, 1, 2, 3],\n",
    "                    \"Qu3\": [1, 5, 2, 4, 4]})\n",
    "data\n",
    "data['Qu1'].value_counts().sort_index() #column wise freq with sorted index, not value descending sorted\n",
    "# result=data.value_counts()#its show in row wise, each distinct rows frequency\n",
    "result=data.apply(pd.value_counts)\n",
    "result\n",
    "data = pd.DataFrame({\"a\": [1, 1, 1, 2, 2], \"b\": [0, 0, 1, 0, 0]})\n",
    "data\n",
    "data.value_counts()\n",
    "#ending of Pandas. yeah hoooooooooooooo"
   ]
  }
 ],
 "metadata": {
  "kernelspec": {
   "display_name": "base",
   "language": "python",
   "name": "python3"
  },
  "language_info": {
   "codemirror_mode": {
    "name": "ipython",
    "version": 3
   },
   "file_extension": ".py",
   "mimetype": "text/x-python",
   "name": "python",
   "nbconvert_exporter": "python",
   "pygments_lexer": "ipython3",
   "version": "3.12.4"
  }
 },
 "nbformat": 4,
 "nbformat_minor": 2
}
