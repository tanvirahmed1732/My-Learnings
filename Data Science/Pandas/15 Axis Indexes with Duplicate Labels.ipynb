{
 "cells": [
  {
   "cell_type": "code",
   "execution_count": null,
   "metadata": {},
   "outputs": [
    {
     "data": {
      "text/plain": [
       "0    0.274992\n",
       "1    0.228913\n",
       "2    1.352917\n",
       "Name: c, dtype: float64"
      ]
     },
     "execution_count": 9,
     "metadata": {},
     "output_type": "execute_result"
    }
   ],
   "source": [
    "#Axis Indexes with Duplicate Labels\n",
    "import numpy as np \n",
    "import pandas as pd\n",
    "np.random.seed(12345)#to get same random number every time\n",
    "obj=pd.Series(np.arange(5),index=list('aabbc'))\n",
    "obj #unique indices are not mendatory.\n",
    "obj.index #can see the indices\n",
    "obj.index.is_unique #shows that the indices are unique or not\n",
    "obj['a'] #if duplicate index available, it will return a series.\n",
    "df=pd.DataFrame(np.random.standard_normal((5,3)),index=list('aabbc'))\n",
    "df\n",
    "df.loc['b'] #it will return a dataframe\n",
    "df.loc['c'] #it will return a series since unique\n"
   ]
  }
 ],
 "metadata": {
  "kernelspec": {
   "display_name": "base",
   "language": "python",
   "name": "python3"
  },
  "language_info": {
   "codemirror_mode": {
    "name": "ipython",
    "version": 3
   },
   "file_extension": ".py",
   "mimetype": "text/x-python",
   "name": "python",
   "nbconvert_exporter": "python",
   "pygments_lexer": "ipython3",
   "version": "3.12.4"
  }
 },
 "nbformat": 4,
 "nbformat_minor": 2
}
