{
 "cells": [
  {
   "cell_type": "code",
   "execution_count": null,
   "metadata": {},
   "outputs": [
    {
     "data": {
      "text/html": [
       "<div>\n",
       "<style scoped>\n",
       "    .dataframe tbody tr th:only-of-type {\n",
       "        vertical-align: middle;\n",
       "    }\n",
       "\n",
       "    .dataframe tbody tr th {\n",
       "        vertical-align: top;\n",
       "    }\n",
       "\n",
       "    .dataframe thead th {\n",
       "        text-align: right;\n",
       "    }\n",
       "</style>\n",
       "<table border=\"1\" class=\"dataframe\">\n",
       "  <thead>\n",
       "    <tr style=\"text-align: right;\">\n",
       "      <th></th>\n",
       "      <th>b</th>\n",
       "      <th>a</th>\n",
       "      <th>c</th>\n",
       "    </tr>\n",
       "  </thead>\n",
       "  <tbody>\n",
       "    <tr>\n",
       "      <th>0</th>\n",
       "      <td>3.0</td>\n",
       "      <td>2.0</td>\n",
       "      <td>1.0</td>\n",
       "    </tr>\n",
       "    <tr>\n",
       "      <th>1</th>\n",
       "      <td>3.0</td>\n",
       "      <td>1.0</td>\n",
       "      <td>2.0</td>\n",
       "    </tr>\n",
       "    <tr>\n",
       "      <th>2</th>\n",
       "      <td>1.0</td>\n",
       "      <td>2.0</td>\n",
       "      <td>3.0</td>\n",
       "    </tr>\n",
       "    <tr>\n",
       "      <th>3</th>\n",
       "      <td>3.0</td>\n",
       "      <td>2.0</td>\n",
       "      <td>1.0</td>\n",
       "    </tr>\n",
       "  </tbody>\n",
       "</table>\n",
       "</div>"
      ],
      "text/plain": [
       "     b    a    c\n",
       "0  3.0  2.0  1.0\n",
       "1  3.0  1.0  2.0\n",
       "2  1.0  2.0  3.0\n",
       "3  3.0  2.0  1.0"
      ]
     },
     "execution_count": 20,
     "metadata": {},
     "output_type": "execute_result"
    }
   ],
   "source": [
    "#sorting and ranking\n",
    "import numpy as np\n",
    "import pandas as pd\n",
    "obj=pd.Series(np.arange(4),index=list(\"dabc\"))\n",
    "obj\n",
    "obj.sort_index() #sort index wise e.g. a,b,c,d\n",
    "frame=pd.DataFrame(np.arange(8).reshape((2,4)),index=[\"three\",\"one\"],columns=list(\"dabc\"))\n",
    "frame\n",
    "frame.sort_index()\n",
    "frame.sort_index(axis=\"columns\") #sort column wise\n",
    "frame.sort_index(axis=\"columns\",ascending=False) #sort in descending order\n",
    "obj=pd.Series([4,7,-3,2])\n",
    "obj.sort_values() #sort the values in ascending order\n",
    "obj=pd.Series([4,np.nan,7,np.nan,-3,2])\n",
    "obj.sort_values() #Any missing values are sorted to the end of the Series by default\n",
    "obj.sort_values(na_position=\"first\") #missing values can be positioned first\n",
    "frame = pd.DataFrame({\"b\": [4, 7, -3, 2], \"a\": [0, 1, 0, 1]})\n",
    "frame\n",
    "frame.sort_values(\"b\") #only sort the b column\n",
    "frame.sort_values(['a','b']) #sort column pair wise. first one get priority\n",
    "obj=pd.Series([7,-5,7,4,2,0,4])\n",
    "obj.rank() #rank the elements, another version of sorting.\n",
    "#ties break by the average rank.\n",
    "obj.rank(method=\"first\") #actula ranking. ties breaks by fifo\n",
    "obj.rank(ascending=False) #ranking in descending order\n",
    "frame = pd.DataFrame({\"b\": [4.3, 7, -3, 2], \"a\": [0, 1, 0, 1],\"c\": [-2, 5, 8, -2.5]})\n",
    "frame\n",
    "frame.rank(axis=\"columns\")\n",
    "\n",
    "# methods\n",
    "# \"average\" Default: assign the average rank to each entry in the equal group\n",
    "# \"min\" Use the minimum rank for the whole group\n",
    "# \"max\" Use the maximum rank for the whole group\n",
    "# \"first\" Assign ranks in the order the values appear in the data\n",
    "# \"dense\" Like method=\"min\", but ranks always increase by 1 between groups rather than the number of equal\n",
    "# elements in a group"
   ]
  }
 ],
 "metadata": {
  "kernelspec": {
   "display_name": "base",
   "language": "python",
   "name": "python3"
  },
  "language_info": {
   "codemirror_mode": {
    "name": "ipython",
    "version": 3
   },
   "file_extension": ".py",
   "mimetype": "text/x-python",
   "name": "python",
   "nbconvert_exporter": "python",
   "pygments_lexer": "ipython3",
   "version": "3.12.4"
  }
 },
 "nbformat": 4,
 "nbformat_minor": 2
}
