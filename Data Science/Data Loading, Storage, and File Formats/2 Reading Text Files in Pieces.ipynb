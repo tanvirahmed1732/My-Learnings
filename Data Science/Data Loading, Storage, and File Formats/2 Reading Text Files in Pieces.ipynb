{
 "cells": [
  {
   "cell_type": "code",
   "execution_count": null,
   "metadata": {},
   "outputs": [
    {
     "data": {
      "text/plain": [
       "key\n",
       "E    368.0\n",
       "X    364.0\n",
       "L    346.0\n",
       "O    343.0\n",
       "Q    340.0\n",
       "M    338.0\n",
       "J    337.0\n",
       "F    335.0\n",
       "K    334.0\n",
       "H    330.0\n",
       "dtype: float64"
      ]
     },
     "execution_count": 9,
     "metadata": {},
     "output_type": "execute_result"
    }
   ],
   "source": [
    "#Reading Text Files in Pieces\n",
    "import numpy as np \n",
    "import pandas as pd\n",
    "pd.options.display.max_rows=10\n",
    "result=pd.read_csv('ex6.csv')\n",
    "result\n",
    "pd.read_csv('ex6.csv',nrows=5) #i can read a specific number of rows from a big file\n",
    "chunker = pd.read_csv('ex6.csv',chunksize=1000) #piece the file in 1000 sized chunks\n",
    "tot=pd.Series([],dtype='int64')\n",
    "for piece in chunker:\n",
    "    tot=tot.add(piece['key'].value_counts(),fill_value=0) #count the freq of keys\n",
    "tot=tot.sort_values(ascending=False)\n",
    "tot[:10]"
   ]
  }
 ],
 "metadata": {
  "kernelspec": {
   "display_name": "base",
   "language": "python",
   "name": "python3"
  },
  "language_info": {
   "codemirror_mode": {
    "name": "ipython",
    "version": 3
   },
   "file_extension": ".py",
   "mimetype": "text/x-python",
   "name": "python",
   "nbconvert_exporter": "python",
   "pygments_lexer": "ipython3",
   "version": "3.12.4"
  }
 },
 "nbformat": 4,
 "nbformat_minor": 2
}
