{
 "cells": [
  {
   "cell_type": "code",
   "execution_count": 9,
   "metadata": {},
   "outputs": [
    {
     "name": "stdout",
     "output_type": "stream",
     "text": [
      "|something|a|b|c|d|message\n",
      "0|one|1|2|3.0|4|\n",
      "1|two|5|6||8|world\n",
      "2|three|9|10|11.0|12|foo\n",
      ",something,a,b,c,d,message\n",
      "0,one,1,2,3.0,4,hello\n",
      "1,two,5,6,hello,8,world\n",
      "2,three,9,10,11.0,12,foo\n",
      "one,1,2,3.0,4,\n",
      "two,5,6,,8,world\n",
      "three,9,10,11.0,12,foo\n",
      "a,b,c\n",
      "1,2,3.0\n",
      "5,6,\n",
      "9,10,11.0\n"
     ]
    }
   ],
   "source": [
    "#Writing Data to Text Format\n",
    "import numpy as np\n",
    "import pandas as pd \n",
    "data=pd.read_csv('ex5.csv')\n",
    "data\n",
    "data.to_csv(\"out.csv\") #make te dataframe to csv comma-separated file\n",
    "# !type out.csv\n",
    "import sys\n",
    "data.to_csv(sys.stdout,sep='|') #rather than passing to a file we can print it in console\n",
    "data.to_csv(sys.stdout,na_rep='hello') #i can convert empty value to any other values\n",
    "data.to_csv(sys.stdout,index=False,header=False) #we can disable index and header\n",
    "data.to_csv(sys.stdout,index=False,columns=['a','b','c']) #we can selelct as much as column we want"
   ]
  }
 ],
 "metadata": {
  "kernelspec": {
   "display_name": "base",
   "language": "python",
   "name": "python3"
  },
  "language_info": {
   "codemirror_mode": {
    "name": "ipython",
    "version": 3
   },
   "file_extension": ".py",
   "mimetype": "text/x-python",
   "name": "python",
   "nbconvert_exporter": "python",
   "pygments_lexer": "ipython3",
   "version": "3.12.4"
  }
 },
 "nbformat": 4,
 "nbformat_minor": 2
}
