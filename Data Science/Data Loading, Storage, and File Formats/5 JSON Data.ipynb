{
 "cells": [
  {
   "cell_type": "code",
   "execution_count": 10,
   "metadata": {},
   "outputs": [
    {
     "name": "stdout",
     "output_type": "stream",
     "text": [
      "{\"a\":{\"0\":1,\"1\":4,\"2\":7},\"b\":{\"0\":2,\"1\":5,\"2\":8},\"c\":{\"0\":3,\"1\":6,\"2\":9}}[{\"a\":1,\"b\":2,\"c\":3},{\"a\":4,\"b\":5,\"c\":6},{\"a\":7,\"b\":8,\"c\":9}]"
     ]
    }
   ],
   "source": [
    "#JSON Data\n",
    "import sys\n",
    "import json\n",
    "import numpy as np \n",
    "import pandas as pd\n",
    "obj = \"\"\"\n",
    "{\"name\": \"Wes\",\n",
    " \"cities_lived\": [\"Akron\", \"Nashville\", \"New York\", \"San Francisco\"],\n",
    " \"pet\": null,\n",
    " \"siblings\": [{\"name\": \"Scott\", \"age\": 34, \"hobbies\": [\"guitars\", \"soccer\"]},\n",
    " {\"name\": \"Katie\", \"age\": 42, \"hobbies\": [\"diving\", \"art\"]}]\n",
    "}\n",
    "\"\"\"\n",
    "result=json.loads(obj) #To convert a JSON string to Python form\n",
    "result\n",
    "asjson=json.dumps(result) #converts a Python object back to JSON\n",
    "asjson\n",
    "\n",
    "sibling=pd.DataFrame(result['siblings'],columns=['name','age'])\n",
    "sibling #json to dataframe\n",
    "\n",
    "data=pd.read_json('exaple.json') #we can read json like read csv\n",
    "data\n",
    "\n",
    "data.to_json(sys.stdout) #we can also transfer dataframe or series to json\n",
    "data.to_json(sys.stdout,orient='records')"
   ]
  }
 ],
 "metadata": {
  "kernelspec": {
   "display_name": "base",
   "language": "python",
   "name": "python3"
  },
  "language_info": {
   "codemirror_mode": {
    "name": "ipython",
    "version": 3
   },
   "file_extension": ".py",
   "mimetype": "text/x-python",
   "name": "python",
   "nbconvert_exporter": "python",
   "pygments_lexer": "ipython3",
   "version": "3.12.4"
  }
 },
 "nbformat": 4,
 "nbformat_minor": 2
}
