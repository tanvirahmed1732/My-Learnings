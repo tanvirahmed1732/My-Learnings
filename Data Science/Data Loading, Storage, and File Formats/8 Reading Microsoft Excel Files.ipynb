{
 "cells": [
  {
   "cell_type": "code",
   "execution_count": null,
   "metadata": {},
   "outputs": [],
   "source": [
    "#Reading Microsoft Excel Files\n",
    "import numpy as np \n",
    "import pandas as pd\n",
    "frame = pd.read_excel(\"examples/ex1.xlsx\", sheet_name=\"Sheet1\") #convert excel to dataframe\n",
    "frame.to_excel(\"examples/ex2.xlsx\") #frame to excel"
   ]
  }
 ],
 "metadata": {
  "kernelspec": {
   "display_name": "base",
   "language": "python",
   "name": "python3"
  },
  "language_info": {
   "name": "python",
   "version": "3.12.4"
  }
 },
 "nbformat": 4,
 "nbformat_minor": 2
}
