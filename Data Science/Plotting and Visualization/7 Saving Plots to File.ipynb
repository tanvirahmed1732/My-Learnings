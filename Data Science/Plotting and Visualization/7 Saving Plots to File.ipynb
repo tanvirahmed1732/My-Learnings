{
 "cells": [
  {
   "cell_type": "code",
   "execution_count": 1,
   "metadata": {},
   "outputs": [],
   "source": [
    "'''You can save the active figure to file using the figure object’s savefig instance\n",
    "method. For example, to save an SVG version of a figure, you need only type:\n",
    "fig.savefig(\"figpath.svg\")\n",
    "The file type is inferred from the file extension. So if you used .pdf instead, you\n",
    "would get a PDF. One important option that I use frequently for publishing graphics\n",
    "is dpi, which controls the dots-per-inch resolution. To get the same plot as a PNG at\n",
    "400 DPI, you would do:\n",
    "fig.savefig(\"figpath.png\", dpi=400)\n",
    "See Table 9-2 for a list of some other options for savefig. For a comprehensive\n",
    "listing, refer to the docstring in IPython or Jupyter.'''\n"
   ]
  }
 ],
 "metadata": {
  "kernelspec": {
   "display_name": "base",
   "language": "python",
   "name": "python3"
  },
  "language_info": {
   "codemirror_mode": {
    "name": "ipython",
    "version": 3
   },
   "file_extension": ".py",
   "mimetype": "text/x-python",
   "name": "python",
   "nbconvert_exporter": "python",
   "pygments_lexer": "ipython3",
   "version": "3.12.3"
  }
 },
 "nbformat": 4,
 "nbformat_minor": 2
}
