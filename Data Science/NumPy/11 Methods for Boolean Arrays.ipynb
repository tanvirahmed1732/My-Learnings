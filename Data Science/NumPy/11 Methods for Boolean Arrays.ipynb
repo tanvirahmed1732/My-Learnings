{
 "cells": [
  {
   "cell_type": "code",
   "execution_count": null,
   "metadata": {},
   "outputs": [
    {
     "data": {
      "text/plain": [
       "False"
      ]
     },
     "execution_count": 8,
     "metadata": {},
     "output_type": "execute_result"
    }
   ],
   "source": [
    "#Methods for Boolean Arrays\n",
    "import numpy as np\n",
    "arr=np.random.standard_normal(10)\n",
    "(arr>0).sum(),(arr<=0).sum() #hoq many postive and negative numner there\n",
    "bools=np.array([False,True,False,False])\n",
    "bools.any() #any tests whether one or more values in an array is True\n",
    "bools.all() #all checks if every value is True\n"
   ]
  }
 ],
 "metadata": {
  "kernelspec": {
   "display_name": "base",
   "language": "python",
   "name": "python3"
  },
  "language_info": {
   "codemirror_mode": {
    "name": "ipython",
    "version": 3
   },
   "file_extension": ".py",
   "mimetype": "text/x-python",
   "name": "python",
   "nbconvert_exporter": "python",
   "pygments_lexer": "ipython3",
   "version": "3.12.4"
  }
 },
 "nbformat": 4,
 "nbformat_minor": 2
}
