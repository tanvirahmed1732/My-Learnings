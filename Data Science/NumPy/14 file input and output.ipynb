{
 "cells": [
  {
   "cell_type": "code",
   "execution_count": null,
   "metadata": {},
   "outputs": [
    {
     "data": {
      "text/plain": [
       "array([0, 1, 2, 3, 4, 5, 6, 7, 8, 9])"
      ]
     },
     "execution_count": 11,
     "metadata": {},
     "output_type": "execute_result"
    }
   ],
   "source": [
    "#File Input and Output with Arrays\n",
    "import numpy as np\n",
    "arr=np.arange(10)\n",
    "arr\n",
    "np.save(\"array\",arr) #save the array to disk\n",
    "np.load(\"array.npy\") #load the array from the disk\n",
    "ar=np.arange(-10,0)\n",
    "ar\n",
    "np.savez(\"array.npz\",a=ar,b=arr) #save multiple array as dict\n",
    "np.load(\"array.npz\")[\"a\"] #load the array as a dict\n",
    "np.load(\"array.npz\")[\"b\"]"
   ]
  }
 ],
 "metadata": {
  "kernelspec": {
   "display_name": "base",
   "language": "python",
   "name": "python3"
  },
  "language_info": {
   "codemirror_mode": {
    "name": "ipython",
    "version": 3
   },
   "file_extension": ".py",
   "mimetype": "text/x-python",
   "name": "python",
   "nbconvert_exporter": "python",
   "pygments_lexer": "ipython3",
   "version": "3.12.4"
  }
 },
 "nbformat": 4,
 "nbformat_minor": 2
}
