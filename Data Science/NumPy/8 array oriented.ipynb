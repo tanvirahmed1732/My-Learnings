{
 "cells": [
  {
   "cell_type": "code",
   "execution_count": null,
   "metadata": {},
   "outputs": [],
   "source": [
    "#Array-Oriented Programming with Arrays\n",
    "import numpy as np\n",
    "import matplotlib.pyplot as plt\n",
    "points=np.arange(-5,5,0.1) #100 equally spaced points\n",
    "points\n",
    "xs,ys=np.meshgrid(points, points) #meshgrid function takes two onedimensional \n",
    "#arrays and produces two two-dimensional matrices corresponding to all\n",
    "#pairs of (x, y) in the two arrays:\n",
    "xs,ys\n",
    "z=np.sqrt(xs**2+ys**2)\n",
    "z\n",
    "#use matplotlib to create visualizations of this twodimensional array\n",
    "plt.imshow(z,cmap=plt.cm.gray, extent=[-5,5,-5,5])\n",
    "plt.colorbar()\n",
    "plt.title(\"yeah boiiiiii\")\n",
    "plt.close(\"all\")"
   ]
  }
 ],
 "metadata": {
  "kernelspec": {
   "display_name": "base",
   "language": "python",
   "name": "python3"
  },
  "language_info": {
   "codemirror_mode": {
    "name": "ipython",
    "version": 3
   },
   "file_extension": ".py",
   "mimetype": "text/x-python",
   "name": "python",
   "nbconvert_exporter": "python",
   "pygments_lexer": "ipython3",
   "version": "3.12.4"
  }
 },
 "nbformat": 4,
 "nbformat_minor": 2
}
