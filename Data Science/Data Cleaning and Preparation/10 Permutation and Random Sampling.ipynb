{
 "cells": [
  {
   "cell_type": "code",
   "execution_count": 7,
   "metadata": {},
   "outputs": [
    {
     "data": {
      "text/plain": [
       "2   -1\n",
       "4    4\n",
       "4    4\n",
       "1    7\n",
       "4    4\n",
       "3    6\n",
       "2   -1\n",
       "1    7\n",
       "3    6\n",
       "0    5\n",
       "dtype: int64"
      ]
     },
     "execution_count": 7,
     "metadata": {},
     "output_type": "execute_result"
    }
   ],
   "source": [
    "import numpy as np\n",
    "import pandas as pd\n",
    "df = pd.DataFrame(np.arange(5 * 7).reshape((5, 7)))\n",
    "df\n",
    "sampler = np.random.permutation(5)\n",
    "df.take(sampler)\n",
    "df.iloc[sampler]\n",
    "\n",
    "column_sampler = np.random.permutation(7)\n",
    "df.take(column_sampler, axis=\"columns\") # we could also select a permutation of the columns\n",
    "\"\"\"To select a random subset without replacement (the same row cannot appear twice),\n",
    "we can use the sample method on Series and DataFrame\n",
    "\"\"\"\n",
    "df.sample(n=3)\n",
    "\n",
    "choices = pd.Series([5, 7, -1, 6, 4])\n",
    "choices.sample(n=10, replace=True) #To generate a sample with replacement (to allow repeat choices), pass replace=True\n",
    "\n"
   ]
  }
 ],
 "metadata": {
  "kernelspec": {
   "display_name": "base",
   "language": "python",
   "name": "python3"
  },
  "language_info": {
   "codemirror_mode": {
    "name": "ipython",
    "version": 3
   },
   "file_extension": ".py",
   "mimetype": "text/x-python",
   "name": "python",
   "nbconvert_exporter": "python",
   "pygments_lexer": "ipython3",
   "version": "3.12.3"
  }
 },
 "nbformat": 4,
 "nbformat_minor": 2
}
