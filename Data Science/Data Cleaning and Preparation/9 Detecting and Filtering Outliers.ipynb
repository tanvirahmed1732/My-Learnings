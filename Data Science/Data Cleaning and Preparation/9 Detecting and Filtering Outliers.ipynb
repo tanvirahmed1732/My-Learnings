{
 "cells": [
  {
   "cell_type": "code",
   "execution_count": 10,
   "metadata": {},
   "outputs": [],
   "source": [
    "import numpy as np \n",
    "import pandas as pd\n",
    "\n",
    "data = pd.DataFrame(np.random.standard_normal((1000,4)))\n",
    "data.describe()\n",
    "# suppose we wanted to find values in one of the columns exceeding 3 in absolute value\n",
    "col = data[2]\n",
    "col[col.abs()>3]\n",
    "#To select all rows having a value exceeding 3 or –3, you can use the any method on a Boolean DataFrame\n",
    "data[(data.abs()>3).any(axis=\"columns\")]\n",
    "\n",
    "data[data.abs()>3] = np.sign(data) * 3 #The statement np.sign(data) produces 1 and –1 values based on whether the values in data are positive or negative\n",
    "#it will replace all value those are out of the boundary of -3,3 with the value of -3,3"
   ]
  }
 ],
 "metadata": {
  "kernelspec": {
   "display_name": "base",
   "language": "python",
   "name": "python3"
  },
  "language_info": {
   "codemirror_mode": {
    "name": "ipython",
    "version": 3
   },
   "file_extension": ".py",
   "mimetype": "text/x-python",
   "name": "python",
   "nbconvert_exporter": "python",
   "pygments_lexer": "ipython3",
   "version": "3.12.3"
  }
 },
 "nbformat": 4,
 "nbformat_minor": 2
}
