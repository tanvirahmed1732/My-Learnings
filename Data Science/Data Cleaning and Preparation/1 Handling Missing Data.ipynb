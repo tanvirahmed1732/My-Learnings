{
 "cells": [
  {
   "cell_type": "code",
   "execution_count": 7,
   "metadata": {},
   "outputs": [
    {
     "data": {
      "text/plain": [
       "0    False\n",
       "1    False\n",
       "2     True\n",
       "dtype: bool"
      ]
     },
     "execution_count": 7,
     "metadata": {},
     "output_type": "execute_result"
    }
   ],
   "source": [
    "import pandas as pd\n",
    "import numpy as np \n",
    "float_data = pd.Series([1.2,-3.5,np.nan,0])\n",
    "float_data\n",
    "float_data.isna()\n",
    "\n",
    "string_data=pd.Series([\"aarbvark\",np.nan,None,\"avocado\"])\n",
    "string_data\n",
    "string_data.isna() #The built-in Python None value is also treated as NA\n",
    "\n",
    "float_data=pd.Series([1,2,None],dtype=\"float64\")\n",
    "float_data\n",
    "float_data.isna() #last element is true\n",
    "\n",
    "\n",
    "\"\"\"dropna-> Filter axis labels based on whether values for each label have missing data, with varying thresholds for how much\n",
    "missing data to tolerate.\n",
    "fillna-> Fill in missing data with some value or using an interpolation method such as \"ffill\" or \"bfill\".\n",
    "isna-> Return Boolean values indicating which values are missing/NA.\n",
    "notna-> Negation of isna, returns True for non-NA values and False for NA values.\"\"\""
   ]
  }
 ],
 "metadata": {
  "kernelspec": {
   "display_name": "base",
   "language": "python",
   "name": "python3"
  },
  "language_info": {
   "codemirror_mode": {
    "name": "ipython",
    "version": 3
   },
   "file_extension": ".py",
   "mimetype": "text/x-python",
   "name": "python",
   "nbconvert_exporter": "python",
   "pygments_lexer": "ipython3",
   "version": "3.12.3"
  }
 },
 "nbformat": 4,
 "nbformat_minor": 2
}
