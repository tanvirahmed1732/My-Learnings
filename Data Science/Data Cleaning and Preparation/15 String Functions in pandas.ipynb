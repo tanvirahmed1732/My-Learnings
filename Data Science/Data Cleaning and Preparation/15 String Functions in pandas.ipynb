{
 "cells": [
  {
   "cell_type": "code",
   "execution_count": 9,
   "metadata": {},
   "outputs": [
    {
     "data": {
      "text/plain": [
       "Dave     dave@\n",
       "Steve    steve\n",
       "Rob      rob@g\n",
       "Wes        NaN\n",
       "dtype: object"
      ]
     },
     "execution_count": 9,
     "metadata": {},
     "output_type": "execute_result"
    }
   ],
   "source": [
    "import numpy as np\n",
    "import pandas as pd \n",
    "data = {\"Dave\": \"dave@google.com\", \"Steve\": \"steve@gmail.com\",\n",
    "\"Rob\": \"rob@gmail.com\", \"Wes\": np.nan}\n",
    "data=pd.Series(data)\n",
    "data #convert the string dict to series\n",
    "data.isna()\n",
    "data.str.contains(\"gmail\") #we could check whether each email address has \"gmail\" in it\n",
    "'''Dave     False\n",
    "Steve     True\n",
    "Rob       True\n",
    "Wes        NaN\n",
    "dtype: object'''\n",
    "data_as_string_ext = data.astype('string')\n",
    "data_as_string_ext\n",
    "data.str[:5] #we can slice strings using this syntax\n",
    "'''Dave     dave@\n",
    "Steve    steve\n",
    "Rob      rob@g\n",
    "Wes        NaN\n",
    "dtype: object'''\n"
   ]
  }
 ],
 "metadata": {
  "kernelspec": {
   "display_name": "base",
   "language": "python",
   "name": "python3"
  },
  "language_info": {
   "codemirror_mode": {
    "name": "ipython",
    "version": 3
   },
   "file_extension": ".py",
   "mimetype": "text/x-python",
   "name": "python",
   "nbconvert_exporter": "python",
   "pygments_lexer": "ipython3",
   "version": "3.12.3"
  }
 },
 "nbformat": 4,
 "nbformat_minor": 2
}
