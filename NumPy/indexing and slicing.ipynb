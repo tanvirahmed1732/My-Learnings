{
 "cells": [
  {
   "cell_type": "code",
   "execution_count": null,
   "metadata": {},
   "outputs": [
    {
     "data": {
      "text/plain": [
       "array([4, 5])"
      ]
     },
     "execution_count": 27,
     "metadata": {},
     "output_type": "execute_result"
    }
   ],
   "source": [
    "import numpy as np\n",
    "np.arange(9,3,3)\n",
    "arr = np.array([[1, 2, 3], [4, 5, 6], [7, 8, 9]])\n",
    "arr\n",
    "arr[:2]\n",
    "arr[1]\n",
    "arr[:1]\n",
    "# arr[0:1]\n",
    "arr[1,1]\n",
    "arr[1,:3]\n",
    "# arr[:1,:1]\n",
    "arr[:2,1:]\n",
    "arr[:2,2]\n",
    "arr[:2,1:]\n",
    "arr[2]\n",
    "arr[2:,:]\n",
    "arr[:,:2]\n",
    "arr[1,:2]"
   ]
  }
 ],
 "metadata": {
  "kernelspec": {
   "display_name": "base",
   "language": "python",
   "name": "python3"
  },
  "language_info": {
   "codemirror_mode": {
    "name": "ipython",
    "version": 3
   },
   "file_extension": ".py",
   "mimetype": "text/x-python",
   "name": "python",
   "nbconvert_exporter": "python",
   "pygments_lexer": "ipython3",
   "version": "3.12.4"
  }
 },
 "nbformat": 4,
 "nbformat_minor": 2
}
