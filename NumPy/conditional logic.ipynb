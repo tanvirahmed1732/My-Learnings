{
 "cells": [
  {
   "cell_type": "code",
   "execution_count": null,
   "metadata": {},
   "outputs": [
    {
     "data": {
      "text/plain": [
       "array([[-0.38695815, -0.22118476, -1.98285793,  1.        ],\n",
       "       [-0.68749679, -0.82563643,  1.        , -0.23296405],\n",
       "       [ 1.        ,  1.        ,  1.        ,  1.        ],\n",
       "       [-1.72816337,  1.        , -1.84914612, -0.36699557]])"
      ]
     },
     "execution_count": 8,
     "metadata": {},
     "output_type": "execute_result"
    }
   ],
   "source": [
    "#Expressing Conditional Logic as Array Operations (np.where)\n",
    "import numpy as np\n",
    "x=np.arange(-10,0) #0 exclusive\n",
    "x\n",
    "y=np.arange(1,11) #11 exclusive\n",
    "y\n",
    "cond=np.array([True,True,False,True,True,False,False,False,True,False])\n",
    "cond\n",
    "arr=np.where(cond,x,y) #if condition match assign x, otherwise assign y\n",
    "arr\n",
    "arr=np.random.standard_normal(size=(4,4)) #take a 4by4 matrix\n",
    "arr\n",
    "np.where(arr>0,1,-1) #if the number is positive take 1 else take -1\n",
    "np.where(arr>0,1,arr) #You can combine scalars and arrays when using numpy.where\n"
   ]
  }
 ],
 "metadata": {
  "kernelspec": {
   "display_name": "base",
   "language": "python",
   "name": "python3"
  },
  "language_info": {
   "codemirror_mode": {
    "name": "ipython",
    "version": 3
   },
   "file_extension": ".py",
   "mimetype": "text/x-python",
   "name": "python",
   "nbconvert_exporter": "python",
   "pygments_lexer": "ipython3",
   "version": "3.12.4"
  }
 },
 "nbformat": 4,
 "nbformat_minor": 2
}
