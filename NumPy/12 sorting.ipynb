{
 "cells": [
  {
   "cell_type": "code",
   "execution_count": null,
   "metadata": {},
   "outputs": [
    {
     "data": {
      "text/plain": [
       "array([-3, -3,  3,  3,  5])"
      ]
     },
     "execution_count": 14,
     "metadata": {},
     "output_type": "execute_result"
    }
   ],
   "source": [
    "#sorting\n",
    "import numpy as np\n",
    "arr=np.random.standard_normal(6)\n",
    "arr.sort() #sort the array in place\n",
    "arr\n",
    "arr=np.random.standard_normal((3,4))\n",
    "arr.sort(axis=0) #sort across each column, axis=1 -> each row(same element in each column)\n",
    "arr\n",
    "arr=np.array([5,3,2-5,3,-3])\n",
    "np.sort(arr) #like sorted method in python"
   ]
  }
 ],
 "metadata": {
  "kernelspec": {
   "display_name": "base",
   "language": "python",
   "name": "python3"
  },
  "language_info": {
   "codemirror_mode": {
    "name": "ipython",
    "version": 3
   },
   "file_extension": ".py",
   "mimetype": "text/x-python",
   "name": "python",
   "nbconvert_exporter": "python",
   "pygments_lexer": "ipython3",
   "version": "3.12.4"
  }
 },
 "nbformat": 4,
 "nbformat_minor": 2
}
