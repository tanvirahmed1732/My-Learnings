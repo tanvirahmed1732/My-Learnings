{
 "cells": [
  {
   "cell_type": "code",
   "execution_count": null,
   "metadata": {},
   "outputs": [
    {
     "data": {
      "text/plain": [
       "(array([  2.6262283 ,  -4.09556317,   4.72529254,  -1.86039866,\n",
       "         14.03338361,  -8.41311271,  15.32227907, -22.41824622,\n",
       "         -0.63742997,  -0.71915962]),\n",
       " array([  3.,  -4.,   5.,  -2.,  14.,  -8.,  15., -22.,  -1.,  -1.]))"
      ]
     },
     "execution_count": 60,
     "metadata": {},
     "output_type": "execute_result"
    }
   ],
   "source": [
    "import numpy as np\n",
    "arr=np.arange(10)\n",
    "arr\n",
    "np.sqrt(arr)\n",
    "np.exp(arr)\n",
    "a=np.random.standard_normal(10) # 10 random numbers\n",
    "b=np.random.standard_normal(10)\n",
    "np.maximum(a,b) #max between two numbers (element wise)\n",
    "mx=np.maximum(a,b)\n",
    "r,w=np.modf(mx) #it returns two array 1 is reminder second is whole part.\n",
    "r,w\n",
    "mx=np.arange(10)\n",
    "np.add(mx,1) #to add 1, to all element in mx array.\n",
    "#but the problem is, we are not storing the new array,\n",
    "#for this we need to store the whole array in new array to do similar we can do this\n",
    "np.add(mx,1,out=mx)\n",
    "mx\n",
    "rand=np.random.standard_normal(10)*7\n",
    "rand\n",
    "np.abs(rand) #absulate point of the rand\n",
    "np.sign(rand) #giving positinve(+1), negative(-1) or zeor(0)\n",
    "rand,np.rint(rand) # Round elements to the nearest integer, preserving the dtype"
   ]
  }
 ],
 "metadata": {
  "kernelspec": {
   "display_name": "base",
   "language": "python",
   "name": "python3"
  },
  "language_info": {
   "codemirror_mode": {
    "name": "ipython",
    "version": 3
   },
   "file_extension": ".py",
   "mimetype": "text/x-python",
   "name": "python",
   "nbconvert_exporter": "python",
   "pygments_lexer": "ipython3",
   "version": "3.12.4"
  }
 },
 "nbformat": 4,
 "nbformat_minor": 2
}
