{
 "cells": [
  {
   "cell_type": "code",
   "execution_count": null,
   "metadata": {},
   "outputs": [
    {
     "data": {
      "text/plain": [
       "array([ True, False, False,  True,  True, False,  True])"
      ]
     },
     "execution_count": 12,
     "metadata": {},
     "output_type": "execute_result"
    }
   ],
   "source": [
    "#Unique and Other Set Logic\n",
    "import numpy as np \n",
    "names = np.array([\"Bob\", \"Will\", \"Joe\", \"Bob\", \"Will\", \"Joe\", \"Joe\"])\n",
    "names\n",
    "np.unique(names) # numpy.unique returns the sorted unique values in an array\n",
    "ints = np.array([3, 3, 3, 2, 2, 1, 1, 4, 4])\n",
    "np.unique(ints)\n",
    "values = np.array([6, 0, 0, 3, 2, 5, 6])\n",
    "values\n",
    "np.in1d(values,[2,3,6]) #numpy.in1d, tests membership of the values in one array in\n",
    "#another, returning a Boolean array\n",
    "\n",
    "# unique(x) Compute the sorted, unique elements in x\n",
    "# intersect1d(x, y) Compute the sorted, common elements in x and y\n",
    "# union1d(x, y) Compute the sorted union of elements\n",
    "# in1d(x, y) Compute a Boolean array indicating whether each element of x is contained in y\n",
    "# setdiff1d(x, y) Set difference, elements in x that are not in y\n",
    "# setxor1d(x, y) Set symmetric differences; elements that are in either of the arrays, but not both\n"
   ]
  }
 ],
 "metadata": {
  "kernelspec": {
   "display_name": "base",
   "language": "python",
   "name": "python3"
  },
  "language_info": {
   "codemirror_mode": {
    "name": "ipython",
    "version": 3
   },
   "file_extension": ".py",
   "mimetype": "text/x-python",
   "name": "python",
   "nbconvert_exporter": "python",
   "pygments_lexer": "ipython3",
   "version": "3.12.4"
  }
 },
 "nbformat": 4,
 "nbformat_minor": 2
}
