{
 "cells": [
  {
   "cell_type": "code",
   "execution_count": null,
   "metadata": {},
   "outputs": [
    {
     "data": {
      "text/plain": [
       "array([[0., 0.],\n",
       "       [1., 2.],\n",
       "       [2., 4.],\n",
       "       [3., 6.],\n",
       "       [4., 8.]])"
      ]
     },
     "execution_count": 22,
     "metadata": {},
     "output_type": "execute_result"
    }
   ],
   "source": [
    "#Mathematical and Statistical Methods\n",
    "import numpy as np \n",
    "arr=np.zeros((5,2))\n",
    "arr\n",
    "for i in range(5):\n",
    "    arr[i]=i\n",
    "arr\n",
    "arr.mean() #finding mean of full array\n",
    "np.mean(arr)\n",
    "arr.sum() #finding sum of full array\n",
    "arr.sum(axis=0) #sum of same element from each row\n",
    "arr.sum(axis=1) #sum of same element from each column\n",
    "arr1d=np.arange(1,10)\n",
    "arr1d.cumsum() #cumulative sum\n",
    "arr1d.cumprod() #cumulative product\n",
    "arr.cumsum(axis=0) #cumulative sum accross rows\n",
    "arr.cumsum(axis=1) #cumulative sum oaccoss columns\n"
   ]
  }
 ],
 "metadata": {
  "kernelspec": {
   "display_name": "base",
   "language": "python",
   "name": "python3"
  },
  "language_info": {
   "codemirror_mode": {
    "name": "ipython",
    "version": 3
   },
   "file_extension": ".py",
   "mimetype": "text/x-python",
   "name": "python",
   "nbconvert_exporter": "python",
   "pygments_lexer": "ipython3",
   "version": "3.12.4"
  }
 },
 "nbformat": 4,
 "nbformat_minor": 2
}
