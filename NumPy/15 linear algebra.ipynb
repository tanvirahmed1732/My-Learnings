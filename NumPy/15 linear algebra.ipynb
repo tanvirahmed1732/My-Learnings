{
 "cells": [
  {
   "cell_type": "code",
   "execution_count": null,
   "metadata": {},
   "outputs": [
    {
     "data": {
      "text/plain": [
       "array([[ 1.00000000e+00, -8.80754491e-18,  2.27448042e-17],\n",
       "       [-1.22104973e-16,  1.00000000e+00,  8.16715543e-17],\n",
       "       [ 1.56087078e-16, -3.04856712e-17,  1.00000000e+00]])"
      ]
     },
     "execution_count": 23,
     "metadata": {},
     "output_type": "execute_result"
    }
   ],
   "source": [
    "#linear algebra\n",
    "import numpy as np \n",
    "x = np.array([[1., 2., 3.], [4., 5., 6.]])\n",
    "y = np.array([[6., 23.], [-1, 7], [8, 9]])\n",
    "x.dot(y) #it is equivalent to np.dot(x,y)\n",
    "x @ y #it is also equivalent to np.dot(x,y)\n",
    "from numpy.linalg import inv,qr\n",
    "z=np.random.standard_normal((3,3))\n",
    "mat = z.T @ z\n",
    "mat @ inv(mat) #inverse of a square matrix"
   ]
  }
 ],
 "metadata": {
  "kernelspec": {
   "display_name": "base",
   "language": "python",
   "name": "python3"
  },
  "language_info": {
   "codemirror_mode": {
    "name": "ipython",
    "version": 3
   },
   "file_extension": ".py",
   "mimetype": "text/x-python",
   "name": "python",
   "nbconvert_exporter": "python",
   "pygments_lexer": "ipython3",
   "version": "3.12.4"
  }
 },
 "nbformat": 4,
 "nbformat_minor": 2
}
