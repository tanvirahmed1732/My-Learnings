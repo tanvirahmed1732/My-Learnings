{
 "cells": [
  {
   "cell_type": "code",
   "execution_count": null,
   "metadata": {},
   "outputs": [
    {
     "data": {
      "text/plain": [
       "count     16\n",
       "unique     3\n",
       "top        a\n",
       "freq       8\n",
       "dtype: object"
      ]
     },
     "execution_count": 14,
     "metadata": {},
     "output_type": "execute_result"
    }
   ],
   "source": [
    "#Summarizing and Computing Descriptive Statistics\n",
    "import numpy as np\n",
    "import pandas as pd\n",
    "df = pd.DataFrame([[1.4, np.nan], [7.1, -4.5],\n",
    "        [np.nan, np.nan], [0.75, -1.3]],\n",
    "        index=[\"a\", \"b\", \"c\", \"d\"],\n",
    "        columns=[\"one\", \"two\"])\n",
    "df\n",
    "df.sum() #it will return column wise sum\n",
    "df.sum(axis='columns') #sum accross the columns\n",
    "df.sum(skipna=False) #if any nan found, it will show nan in result\n",
    "df.mean(axis='columns')\n",
    "df.idxmax() #it will return the index that contain the max value\n",
    "df.cumsum() #cumulative sum in columns\n",
    "df.describe() #give a summary applying on columns\n",
    "obj=pd.Series(['a','a','b','c']*4)\n",
    "obj.describe()#On nonnumeric data, describe produces alternative summary statistics\n",
    "\n",
    "\n",
    "# count Number of non-NA values\n",
    "# describe Compute set of summary statistics\n",
    "# min, max Compute minimum and maximum values\n",
    "# argmin, argmax Compute index locations (integers) at which minimum or maximum value is obtained, respectively;\n",
    "# not available on DataFrame objects\n",
    "# idxmin, idxmax Compute index labels at which minimum or maximum value is obtained, respectively\n",
    "# quantile Compute sample quantile ranging from 0 to 1 (default: 0.5)\n",
    "# sum Sum of values\n",
    "# mean Mean of values\n",
    "# median Arithmetic median (50% quantile) of values\n",
    "# mad Mean absolute deviation from mean value\n",
    "# prod Product of all values\n",
    "# var Sample variance of values\n",
    "# std Sample standard deviation of values\n",
    "# skew Sample skewness (third moment) of values\n",
    "# kurt Sample kurtosis (fourth moment) of values\n",
    "# cumsum Cumulative sum of values\n",
    "# cummin, cummax Cumulative minimum or maximum of values, respectively\n",
    "# cumprod Cumulative product of values\n",
    "# diff Compute first arithmetic difference (useful for time series)\n",
    "# pct_change Compute percent changes"
   ]
  }
 ],
 "metadata": {
  "kernelspec": {
   "display_name": "base",
   "language": "python",
   "name": "python3"
  },
  "language_info": {
   "codemirror_mode": {
    "name": "ipython",
    "version": 3
   },
   "file_extension": ".py",
   "mimetype": "text/x-python",
   "name": "python",
   "nbconvert_exporter": "python",
   "pygments_lexer": "ipython3",
   "version": "3.12.4"
  }
 },
 "nbformat": 4,
 "nbformat_minor": 2
}
