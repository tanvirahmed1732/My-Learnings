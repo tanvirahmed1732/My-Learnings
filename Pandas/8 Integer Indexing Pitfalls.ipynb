{
 "cells": [
  {
   "cell_type": "code",
   "execution_count": null,
   "metadata": {},
   "outputs": [
    {
     "name": "stderr",
     "output_type": "stream",
     "text": [
      "C:\\Users\\Tanvir Ahmed\\AppData\\Local\\Temp\\ipykernel_17536\\2185324241.py:11: FutureWarning: Series.__getitem__ treating keys as positions is deprecated. In a future version, integer keys will always be treated as labels (consistent with DataFrame behavior). To access a value by position, use `ser.iloc[pos]`\n",
      "  ser2[-1] #like this output: 2.0\n"
     ]
    },
    {
     "data": {
      "text/plain": [
       "2.0"
      ]
     },
     "execution_count": 8,
     "metadata": {},
     "output_type": "execute_result"
    }
   ],
   "source": [
    "#Integer indexing pitfalls\n",
    "import numpy as np\n",
    "import pandas as pd\n",
    "ar=[1,2,3,4]\n",
    "ar[-1]\n",
    "ser=pd.Series(np.arange(3.))\n",
    "ser\n",
    "# ser[-1] # we can't do that.\n",
    "#But we can do so like this:\n",
    "ser2=pd.Series(np.arange(3.),index=['a','b','c'])\n",
    "ser2[-1] #like this output: 2.0\n",
    "# lco for labels iloc for integers\n",
    "ser.iloc[-1] #it will work like a piece of cake\n"
   ]
  }
 ],
 "metadata": {
  "kernelspec": {
   "display_name": "base",
   "language": "python",
   "name": "python3"
  },
  "language_info": {
   "codemirror_mode": {
    "name": "ipython",
    "version": 3
   },
   "file_extension": ".py",
   "mimetype": "text/x-python",
   "name": "python",
   "nbconvert_exporter": "python",
   "pygments_lexer": "ipython3",
   "version": "3.12.4"
  }
 },
 "nbformat": 4,
 "nbformat_minor": 2
}
